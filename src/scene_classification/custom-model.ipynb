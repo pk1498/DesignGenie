{
 "cells": [
  {
   "cell_type": "code",
   "execution_count": 1,
   "id": "d3a3172d31b50770",
   "metadata": {
    "execution": {
     "iopub.execute_input": "2024-12-10T19:44:45.085196Z",
     "iopub.status.busy": "2024-12-10T19:44:45.085196Z",
     "iopub.status.idle": "2024-12-10T19:44:52.972522Z",
     "shell.execute_reply": "2024-12-10T19:44:52.971514Z",
     "shell.execute_reply.started": "2024-12-10T19:44:45.085196Z"
    }
   },
   "outputs": [
    {
     "name": "stdout",
     "output_type": "stream",
     "text": [
      "['artstudio', 'bathroom', 'bedroom', 'children_room', 'closet', 'computerroom', 'dining_room', 'gameroom', 'kitchen', 'livingroom', 'locker_room', 'meeting_room']\n",
      "length: 12\n"
     ]
    }
   ],
   "source": [
    "import os\n",
    "import torch\n",
    "import torchvision\n",
    "from torch.utils.data import random_split\n",
    "import torch.nn as nn\n",
    "import torch.nn.functional as F\n",
    "\n",
    "random_seed = 123\n",
    "torch.manual_seed(random_seed)\n",
    "\n",
    "data_dir  = '../../data/Images'\n",
    "\n",
    "classes = os.listdir(data_dir)\n",
    "print(classes)\n",
    "print(f\"length: {len(classes)}\")"
   ]
  },
  {
   "cell_type": "code",
   "execution_count": 2,
   "id": "e96a5e9e02ab61a6",
   "metadata": {
    "execution": {
     "iopub.execute_input": "2024-12-10T19:45:08.298501Z",
     "iopub.status.busy": "2024-12-10T19:45:08.298501Z",
     "iopub.status.idle": "2024-12-10T19:45:09.843991Z",
     "shell.execute_reply": "2024-12-10T19:45:09.843480Z",
     "shell.execute_reply.started": "2024-12-10T19:45:08.298501Z"
    }
   },
   "outputs": [
    {
     "name": "stdout",
     "output_type": "stream",
     "text": [
      "dataset size: 3683\n",
      "cpu\n"
     ]
    }
   ],
   "source": [
    "from matplotlib import pyplot as plt\n",
    "from torchvision.datasets import ImageFolder\n",
    "import torchvision.transforms as transforms\n",
    "from torch.utils.data.dataloader import DataLoader\n",
    "import numpy as np\n",
    "from torch.utils.data.dataloader import DataLoader\n",
    "from torchvision.models import ResNet152_Weights, EfficientNet_B0_Weights, Inception_V3_Weights\n",
    "\n",
    "\n",
    "def dataset_setup(model_name='resnet18'):\n",
    "    if model_name == 'resnet18':\n",
    "        transformations = transforms.Compose([\n",
    "            transforms.Resize((256, 256)),\n",
    "            transforms.RandomHorizontalFlip(),\n",
    "            transforms.RandomRotation(degrees=10),\n",
    "            transforms.ColorJitter(brightness=0.2, contrast=0.2, saturation=0.2, hue=0.2),\n",
    "            transforms.ToTensor()])\n",
    "    elif model_name == 'efficientnet_b0' or model_name == 'vit_b_16' or model_name == 'resnet152':\n",
    "        transformations = transforms.Compose([\n",
    "            transforms.Resize((224, 224)),\n",
    "            transforms.RandomHorizontalFlip(),\n",
    "            transforms.RandomRotation(degrees=10),\n",
    "            transforms.ColorJitter(brightness=0.2, contrast=0.2, saturation=0.2, hue=0.2),\n",
    "            transforms.ToTensor()])\n",
    "    elif model_name == 'inception_v3':\n",
    "        transformations = transforms.Compose([\n",
    "            transforms.Resize((299, 299)),\n",
    "            transforms.RandomHorizontalFlip(),\n",
    "            transforms.RandomRotation(degrees=10),\n",
    "            transforms.ColorJitter(brightness=0.2, contrast=0.2, saturation=0.2, hue=0.2),\n",
    "            transforms.ToTensor()])\n",
    "    return transformations\n",
    "\n",
    "\n",
    "model_name = 'vit_b_16'\n",
    "dataset = ImageFolder(data_dir, transform = dataset_setup(model_name=model_name))\n",
    "print(f\"dataset size: {len(dataset)}\")\n",
    "batch_size = 64\n",
    "train_ds, val_ds, test_ds = random_split(dataset, [2800, 500, 383])\n",
    "train_loader = DataLoader(train_ds, batch_size, shuffle=True, num_workers=4, pin_memory=True)\n",
    "val_loader = DataLoader(val_ds, batch_size*2, num_workers=4, pin_memory=True)\n",
    "\n",
    "device = torch.device(\"cpu\")\n",
    "print(device)"
   ]
  },
  {
   "cell_type": "code",
   "execution_count": 3,
   "id": "initial_id",
   "metadata": {
    "execution": {
     "iopub.execute_input": "2024-12-10T19:45:27.176987Z",
     "iopub.status.busy": "2024-12-10T19:45:27.174992Z",
     "iopub.status.idle": "2024-12-10T22:27:27.976883Z",
     "shell.execute_reply": "2024-12-10T22:27:27.961840Z",
     "shell.execute_reply.started": "2024-12-10T19:45:27.176987Z"
    }
   },
   "outputs": [
    {
     "name": "stdout",
     "output_type": "stream",
     "text": [
      "[Epoch 1] train_loss: 1.1742, val_loss: 2.0395, val_acc: 0.4424\n",
      "[Epoch 2] train_loss: 0.9645, val_loss: 1.5246, val_acc: 0.6984\n",
      "[Epoch 3] train_loss: 0.7977, val_loss: 1.2355, val_acc: 0.7899\n",
      "[Epoch 4] train_loss: 0.6871, val_loss: 1.0146, val_acc: 0.8301\n",
      "[Epoch 5] train_loss: 0.6268, val_loss: 0.9379, val_acc: 0.8297\n"
     ]
    }
   ],
   "source": [
    "from ConvClassifier import ConvClassifier\n",
    "from Distillation import DistillationLoss\n",
    "\n",
    "def train_distillation(teacher_model, student_model, num_epochs=5, train_loader=None, val_loader=None, \n",
    "                       temperature=4.0, alpha=0.5):\n",
    "    teacher_model.eval()  # Freeze the teacher model\n",
    "    distillation_loss = DistillationLoss(temperature=temperature, alpha=alpha)\n",
    "    optimizer = torch.optim.Adam(student_model.parameters(), lr=3e-5)\n",
    "    history = []\n",
    "\n",
    "    for epoch in range(num_epochs):\n",
    "        # Training phase\n",
    "        student_model.train()\n",
    "        train_losses = []\n",
    "        for batch in train_loader:\n",
    "            images, labels = batch[0].to(device), batch[1].to(device)\n",
    "\n",
    "            with torch.no_grad():\n",
    "                teacher_outputs = teacher_model(images)\n",
    "\n",
    "            student_outputs = student_model(images)\n",
    "            loss = distillation_loss(student_outputs, teacher_outputs, labels)\n",
    "\n",
    "            optimizer.zero_grad()\n",
    "            loss.backward()\n",
    "            optimizer.step()\n",
    "            train_losses.append(loss.item())\n",
    "\n",
    "        # Validation phase\n",
    "        student_model.eval()\n",
    "        outputs = [student_model.valid_step(batch) for batch in val_loader]\n",
    "        result = {\n",
    "            'val_loss': np.mean([out['val_loss'] for out in outputs]),\n",
    "            'val_acc': np.mean([out['val_acc'] for out in outputs]),\n",
    "            'train_loss': np.mean(train_losses),\n",
    "        }\n",
    "        print(\n",
    "            f\"[Epoch {epoch+1}] train_loss: {result['train_loss']:.4f}, \"\n",
    "            f\"val_loss: {result['val_loss']:.4f}, val_acc: {result['val_acc']:.4f}\"\n",
    "        )\n",
    "        history.append(result)\n",
    "\n",
    "    return history, student_model\n",
    "\n",
    "\n",
    "teacher_model = torchvision.models.inception_v3(weights = Inception_V3_Weights.IMAGENET1K_V1).to(device)\n",
    "teacher_model.fc = nn.Linear(teacher_model.fc.in_features, len(dataset.classes))\n",
    "teacher_model = teacher_model.to(device)\n",
    "teacher_model.eval()\n",
    "\n",
    "student_model = ConvClassifier(model_name=model_name, dataset=dataset).to(device)\n",
    "\n",
    "history, student_model = train_distillation(teacher_model=teacher_model, student_model=student_model,\n",
    "                                            train_loader=train_loader, val_loader=val_loader,\n",
    "                                            temperature=4.0, alpha=0.5)\n"
   ]
  },
  {
   "cell_type": "code",
   "execution_count": null,
   "id": "be8e5f57-ca97-4b90-bc4c-11565206d922",
   "metadata": {},
   "outputs": [],
   "source": []
  }
 ],
 "metadata": {
  "kernelspec": {
   "display_name": "Python 3 (ipykernel)",
   "language": "python",
   "name": "python3"
  },
  "language_info": {
   "codemirror_mode": {
    "name": "ipython",
    "version": 3
   },
   "file_extension": ".py",
   "mimetype": "text/x-python",
   "name": "python",
   "nbconvert_exporter": "python",
   "pygments_lexer": "ipython3",
   "version": "3.12.1"
  }
 },
 "nbformat": 4,
 "nbformat_minor": 5
}
