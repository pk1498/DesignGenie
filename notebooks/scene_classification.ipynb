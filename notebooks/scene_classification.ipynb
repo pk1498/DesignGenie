{
 "cells": [
  {
   "cell_type": "code",
   "execution_count": 1,
   "id": "initial_id",
   "metadata": {
    "ExecuteTime": {
     "end_time": "2024-11-29T17:26:52.284006Z",
     "start_time": "2024-11-29T17:26:51.052512Z"
    },
    "collapsed": true
   },
   "outputs": [],
   "source": [
    "import sys\n",
    "sys.path.append(\"../src\")\n",
    "import seaborn as sns\n",
    "import matplotlib.pyplot as plt\n",
    "import pandas as pd\n",
    "import numpy as np\n",
    "import torch\n",
    "from data_preprocessing.data_loader import load_sun397_dataset"
   ]
  },
  {
   "cell_type": "markdown",
   "id": "b10010fabae0f436",
   "metadata": {},
   "source": [
    "Load Data:"
   ]
  },
  {
   "cell_type": "code",
   "execution_count": null,
   "id": "a1dfe9462e8ffa4",
   "metadata": {
    "ExecuteTime": {
     "end_time": "2024-11-29T18:34:06.585942Z",
     "start_time": "2024-11-29T18:33:48.222006Z"
    }
   },
   "outputs": [],
   "source": [
    "dataloader = load_sun397_dataset(batch_size=1)"
   ]
  },
  {
   "cell_type": "markdown",
   "id": "6be05d4255abcdd",
   "metadata": {},
   "source": [
    "Visulize a few samples:"
   ]
  },
  {
   "cell_type": "code",
   "execution_count": null,
   "id": "31179252af768f16",
   "metadata": {
    "ExecuteTime": {
     "end_time": "2024-11-29T18:25:39.113113Z",
     "start_time": "2024-11-29T18:25:39.041678Z"
    }
   },
   "outputs": [],
   "source": [
    "def display_image_with_label(image_tensor, label):\n",
    "    # Convert the tensor to a NumPy array and rearrange dimensions\n",
    "    image_array = image_tensor.permute(1, 2, 0).numpy()\n",
    "    image_array = (image_array - image_array.min()) / (image_array.max() - image_array.min())  # Normalize for display\n",
    "\n",
    "    # Create a DataFrame for visualization\n",
    "    df_image = pd.DataFrame(image_array.reshape(-1, 3), columns=[\"R\", \"G\", \"B\"])\n",
    "    df_image[\"Pixel Row\"] = np.tile(np.arange(image_array.shape[0]), image_array.shape[1])\n",
    "    df_image[\"Pixel Col\"] = np.repeat(np.arange(image_array.shape[1]), image_array.shape[0])\n",
    "    \n",
    "    # Visualizing the intensity of one channel (R - Red) for simplicity\n",
    "    sns.set(style=\"whitegrid\")\n",
    "    heatmap_data = image_array[:, :, 0]  # Select the R channel\n",
    "    ax = sns.heatmap(heatmap_data,cmap=\"Reds\",cbar=True,square=True,xticklabels=False,yticklabels=False,)\n",
    "    ax.set_title(f\"Image Label: {label}\")\n",
    "    sns.despine()\n",
    "    plt.show()\n",
    "    \n",
    "# Iterate through the dataset and visualize images\n",
    "for i, (images, labels) in enumerate(dataloader):\n",
    "    if i == 3:  # Limit to first 3 images for demonstration\n",
    "        break\n",
    "    print(f\"Label: {labels.item()}\")\n",
    "    display_image_with_label(images[0], label=labels.item())\n",
    "\n",
    "# Basic Training Dataset Summary with Seaborn\n",
    "def plot_dataset_distribution(dataloader):\n",
    "    label_counts = {}\n",
    "    for _, labels in dataloader:\n",
    "        label = labels.item()\n",
    "        label_counts[label] = label_counts.get(label, 0) + 1\n",
    "\n",
    "    label_df = pd.DataFrame.from_dict(label_counts, orient=\"index\", columns=[\"Count\"]).reset_index()\n",
    "    label_df.columns = [\"Label\", \"Count\"]\n",
    "\n",
    "    sns.barplot(data=label_df, x=\"Label\", y=\"Count\", palette=\"muted\")\n",
    "    plt.title(\"Dataset Label Distribution\")\n",
    "    plt.xlabel(\"Labels\")\n",
    "    plt.ylabel(\"Count\")\n",
    "    sns.despine()\n",
    "    plt.show()\n",
    "\n",
    "\n",
    "# Plot label distribution\n",
    "plot_dataset_distribution(dataloader)"
   ]
  }
 ],
 "metadata": {
  "kernelspec": {
   "display_name": "Python 3",
   "language": "python",
   "name": "python3"
  },
  "language_info": {
   "codemirror_mode": {
    "name": "ipython",
    "version": 3
   },
   "file_extension": ".py",
   "mimetype": "text/x-python",
   "name": "python",
   "nbconvert_exporter": "python",
   "pygments_lexer": "ipython3",
   "version": "3.12.2"
  }
 },
 "nbformat": 4,
 "nbformat_minor": 5
}
