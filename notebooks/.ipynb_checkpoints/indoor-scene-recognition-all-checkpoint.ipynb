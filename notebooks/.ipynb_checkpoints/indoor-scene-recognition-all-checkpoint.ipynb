{
 "cells": [
  {
   "cell_type": "code",
   "metadata": {
    "_cell_guid": "79c7e3d0-c299-4dcb-8224-4455121ee9b0",
    "_uuid": "d629ff2d2480ee46fbb7e2d37f6b5fab8052498a",
    "execution": {
     "iopub.execute_input": "2024-12-08T09:31:56.372358Z",
     "iopub.status.busy": "2024-12-08T09:31:56.372358Z",
     "iopub.status.idle": "2024-12-08T09:32:02.045950Z",
     "shell.execute_reply": "2024-12-08T09:32:02.045950Z",
     "shell.execute_reply.started": "2024-12-08T09:31:56.372358Z"
    },
    "papermill": {
     "duration": 1.555755,
     "end_time": "2021-03-13T20:09:24.996078",
     "exception": false,
     "start_time": "2021-03-13T20:09:23.440323",
     "status": "completed"
    },
    "tags": [],
    "ExecuteTime": {
     "end_time": "2024-12-09T13:53:12.230240Z",
     "start_time": "2024-12-09T13:53:12.214368Z"
    }
   },
   "source": [
    "import os\n",
    "import torch\n",
    "import torchvision\n",
    "from torch.utils.data import random_split\n",
    "import torch.nn as nn\n",
    "import torch.nn.functional as F\n",
    "\n",
    "random_seed = 123\n",
    "torch.manual_seed(random_seed)"
   ],
   "outputs": [
    {
     "data": {
      "text/plain": [
       "<torch._C.Generator at 0x1cc69329ad0>"
      ]
     },
     "execution_count": 2,
     "metadata": {},
     "output_type": "execute_result"
    }
   ],
   "execution_count": 2
  },
  {
   "cell_type": "code",
   "metadata": {
    "execution": {
     "iopub.execute_input": "2024-12-08T09:32:02.865454Z",
     "iopub.status.busy": "2024-12-08T09:32:02.865454Z",
     "iopub.status.idle": "2024-12-08T09:32:03.229632Z",
     "shell.execute_reply": "2024-12-08T09:32:03.229632Z",
     "shell.execute_reply.started": "2024-12-08T09:32:02.865454Z"
    },
    "papermill": {
     "duration": 0.054906,
     "end_time": "2021-03-13T20:09:25.207702",
     "exception": false,
     "start_time": "2021-03-13T20:09:25.152796",
     "status": "completed"
    },
    "tags": []
   },
   "source": [
    "data_dir  = '../data/Images'\n",
    "\n",
    "classes = os.listdir(data_dir)\n",
    "print(classes)\n",
    "print(f\"length: {len(classes)}\")"
   ],
   "outputs": [],
   "execution_count": null
  },
  {
   "metadata": {},
   "cell_type": "code",
   "outputs": [],
   "execution_count": null,
   "source": [
    "from matplotlib import pyplot as plt\n",
    "from torchvision.datasets import ImageFolder\n",
    "import torchvision.transforms as transforms\n",
    "from torch.utils.data.dataloader import DataLoader\n",
    "import numpy as np\n",
    "from torch.utils.data.dataloader import DataLoader\n",
    "\n",
    "\n",
    "def dataset_setup(model_name='resnet18'):\n",
    "    if model_name == 'resnet18':\n",
    "        transformations = transforms.Compose([\n",
    "            transforms.Resize((256, 256)),\n",
    "            transforms.RandomHorizontalFlip(),\n",
    "            transforms.RandomRotation(degrees=10),\n",
    "            transforms.ColorJitter(brightness=0.2, contrast=0.2, saturation=0.2, hue=0.2),\n",
    "            transforms.ToTensor()])\n",
    "    elif model_name == 'efficientnet_b0' or model_name == 'vit_b_16' or model_name == 'resnet152':\n",
    "        transformations = transforms.Compose([\n",
    "            transforms.Resize((224, 224)),\n",
    "            transforms.RandomHorizontalFlip(),\n",
    "            transforms.RandomRotation(degrees=10),\n",
    "            transforms.ColorJitter(brightness=0.2, contrast=0.2, saturation=0.2, hue=0.2),\n",
    "            transforms.ToTensor()])\n",
    "    elif model_name == 'inception_v3':\n",
    "        transformations = transforms.Compose([\n",
    "            transforms.Resize((299, 299)),\n",
    "            transforms.RandomHorizontalFlip(),\n",
    "            transforms.RandomRotation(degrees=10),\n",
    "            transforms.ColorJitter(brightness=0.2, contrast=0.2, saturation=0.2, hue=0.2),\n",
    "            transforms.ToTensor()])\n",
    "    return transformations\n",
    "\n",
    "def accuracy(outputs, labels):\n",
    "    _, preds = torch.max(outputs, dim=1)\n",
    "    acc = torch.sum(preds == labels).item() / len(preds)\n",
    "    return acc\n",
    "\n",
    "class ConvClassifier(nn.Module):\n",
    "    def __init__(self, model_name='resnet18', dataset=None):\n",
    "        super().__init__()\n",
    "        self.model_name = model_name\n",
    "        if self.model_name == 'resnet18':\n",
    "            self.network = torchvision.models.resnet18(pretrained=True)\n",
    "            self.network.fc = nn.Linear(self.network.fc.in_features, len(dataset.classes))\n",
    "        elif self.model_name == 'resnet152':\n",
    "            self.network = torchvision.models.resnet152(pretrained=True)\n",
    "            self.network.fc = nn.Linear(self.network.fc.in_features, len(dataset.classes))\n",
    "        elif self.model_name == 'efficientnet_b0':\n",
    "            self.network = torchvision.models.efficientnet_b0(pretrained=True)\n",
    "            self.network.classifier[1] = nn.Linear(self.network.classifier[1].in_features, len(dataset.classes))\n",
    "        elif self.model_name == 'vit_b_16':\n",
    "            self.network = torchvision.models.vit_b_16(pretrained=True)\n",
    "            self.network.heads = nn.Linear(self.network.heads.head.in_features, len(dataset.classes))\n",
    "        elif self.model_name == 'inception_v3':\n",
    "            self.network = torchvision.models.inception_v3(pretrained=True)\n",
    "            self.network.fc = nn.Linear(self.network.fc.in_features, len(dataset.classes))\n",
    "\n",
    "    def forward(self, xb):\n",
    "        return self.network(xb)\n",
    "    \n",
    "    def training_step(self, batch):\n",
    "        images, labels = batch[0].to(device), batch[1].to(device)\n",
    "        out = self(images)\n",
    "        loss = F.cross_entropy(out, labels)\n",
    "        return loss\n",
    "    \n",
    "    @torch.no_grad()\n",
    "    def valid_step(self, batch):\n",
    "        images, labels = batch[0].to(device), batch[1].to(device) \n",
    "        out = self(images)                    # Generate predictions\n",
    "        loss = F.cross_entropy(out, labels)   # Calculate loss\n",
    "        acc = accuracy(out, labels)           # Calculate accuracy\n",
    "        return {'val_loss': loss.item(), 'val_acc': acc}\n",
    "\n",
    "\n",
    "def train_model(model, num_epochs = 10, train_loader=None, val_loader=None):\n",
    "    history = []\n",
    "    for epoch in range(num_epochs):  # Training Phase\n",
    "        model.train()\n",
    "        train_losses = []\n",
    "        for batch in train_loader:\n",
    "            loss = model.training_step(batch)\n",
    "            optim.zero_grad()\n",
    "            loss.backward()\n",
    "            optim.step()\n",
    "\n",
    "            train_losses.append(loss.item())\n",
    "\n",
    "        # Validation phase\n",
    "        model.eval()\n",
    "        outputs = [model.valid_step(batch) for batch in val_loader]\n",
    "        result = {\n",
    "            'val_loss': np.mean([out['val_loss'] for out in outputs]), \n",
    "            'val_acc': np.mean([out['val_acc'] for out in outputs]), \n",
    "            'train_loss': np.mean(train_losses)\n",
    "        }\n",
    "        print(f\"[Epoch {epoch+1}] train_loss: {result['train_loss']:.4f}, val_loss: {result['val_loss']:.4f}, val_acc: {result['val_acc']:.4f}\")\n",
    "        history.append(result)\n",
    "\n",
    "    return history, model\n",
    "\n",
    "def save_model(model_name='resnet18', model=None):\n",
    "    torch.save(model.state_dict(), f\"{model_name}.pth\")\n",
    "    model.load_state_dict(torch.load(f\"{model_name}.pth\"))\n",
    "\n",
    "def plot_accuracies(history, model_name='resnet18'):\n",
    "    accuracies = [x['val_acc'] for x in history]\n",
    "    plt.plot(accuracies, '-')\n",
    "    plt.xlabel('epoch')\n",
    "    plt.ylabel('accuracy')\n",
    "    plt.title(model_name)\n",
    "\n",
    "\n",
    "def plot_losses(history, model_name='resnet18'):\n",
    "    train_losses = [x.get('train_loss') for x in history]\n",
    "    val_losses = [x['val_loss'] for x in history]\n",
    "    plt.plot(train_losses, '-b')\n",
    "    plt.plot(val_losses, '-r')\n",
    "    plt.xlabel('epoch')\n",
    "    plt.ylabel('loss')\n",
    "    plt.legend(['Train loss', 'Val loss'])\n",
    "    plt.title(model_name);\n",
    "\n",
    "\n",
    "device = torch.device(\"cuda\" if torch.cuda.is_available() else \"cpu\")\n",
    "print(device)\n",
    "\n",
    "models_to_train = ['resnet152', 'efficientnet_b0', 'inception_v3']\n",
    "for model_name in models_to_train:\n",
    "    print(f\"Training Model: {model_name}\")\n",
    "    transformations = dataset_setup(model_name=model_name)\n",
    "    dataset = ImageFolder(data_dir, transform = transformations)\n",
    "    print(f\"dataset size: {len(dataset)}\")\n",
    "\n",
    "    batch_size = 64\n",
    "    train_ds, val_ds, test_ds = random_split(dataset, [2800, 500, 383])\n",
    "    train_loader = DataLoader(train_ds, batch_size, shuffle=True, num_workers=4, pin_memory=True)\n",
    "    val_loader = DataLoader(val_ds, batch_size*2, num_workers=4, pin_memory=True)\n",
    "\n",
    "    model = ConvClassifier(model_name=model_name, dataset=dataset).to(device)\n",
    "    optim = torch.optim.Adam(model.parameters(), 6e-5)\n",
    "    history, model = train_model(model=model, train_loader=train_loader, val_loader=val_loader)\n",
    "\n",
    "    plot_accuracies(history, model_name=model_name)\n",
    "    plot_losses(history, model_name=model_name)\n",
    "\n",
    "    save_model(model_name=model_name, model=model)"
   ]
  },
  {
   "cell_type": "markdown",
   "metadata": {
    "papermill": {
     "duration": 0.050467,
     "end_time": "2021-03-13T20:30:45.804691",
     "exception": false,
     "start_time": "2021-03-13T20:30:45.754224",
     "status": "completed"
    },
    "tags": []
   },
   "source": [
    "# Visualizing Predictions:"
   ]
  },
  {
   "cell_type": "code",
   "metadata": {
    "execution": {
     "iopub.execute_input": "2024-12-09T02:06:19.052900Z",
     "iopub.status.busy": "2024-12-09T02:06:19.052900Z",
     "iopub.status.idle": "2024-12-09T02:06:19.073872Z",
     "shell.execute_reply": "2024-12-09T02:06:19.072865Z",
     "shell.execute_reply.started": "2024-12-09T02:06:19.052900Z"
    },
    "papermill": {
     "duration": 0.0585,
     "end_time": "2021-03-13T20:30:45.913783",
     "exception": false,
     "start_time": "2021-03-13T20:30:45.855283",
     "status": "completed"
    },
    "tags": []
   },
   "source": [
    "def predict_image(img, model):\n",
    "    xb = img.unsqueeze(0).to(device)         # Convert to a batch of 1\n",
    "    yb = model(xb)                           # Get predictions from model\n",
    "    prob, preds  = torch.max(yb, dim=1)      # Pick index with highest probability\n",
    "    return dataset.classes[preds[0].item()]  # Retrieve the class label"
   ],
   "outputs": [],
   "execution_count": null
  },
  {
   "cell_type": "markdown",
   "metadata": {
    "papermill": {
     "duration": 0.049923,
     "end_time": "2021-03-13T20:30:46.014521",
     "exception": false,
     "start_time": "2021-03-13T20:30:45.964598",
     "status": "completed"
    },
    "tags": []
   },
   "source": [
    "Let us see the model's predictions on the test dataset:"
   ]
  },
  {
   "cell_type": "code",
   "metadata": {
    "execution": {
     "iopub.execute_input": "2024-12-09T02:06:23.250946Z",
     "iopub.status.busy": "2024-12-09T02:06:23.249940Z",
     "iopub.status.idle": "2024-12-09T02:06:24.209447Z",
     "shell.execute_reply": "2024-12-09T02:06:24.209447Z",
     "shell.execute_reply.started": "2024-12-09T02:06:23.250946Z"
    },
    "papermill": {
     "duration": 0.235874,
     "end_time": "2021-03-13T20:30:46.300543",
     "exception": false,
     "start_time": "2021-03-13T20:30:46.064669",
     "status": "completed"
    },
    "tags": []
   },
   "source": [
    "img, label = test_ds[17]\n",
    "plt.imshow(img.permute(1, 2, 0))\n",
    "print('Label:', dataset.classes[label], ', Predicted:', predict_image(img, model))"
   ],
   "outputs": [],
   "execution_count": null
  },
  {
   "cell_type": "code",
   "metadata": {
    "execution": {
     "iopub.execute_input": "2024-12-09T02:06:28.939431Z",
     "iopub.status.busy": "2024-12-09T02:06:28.939431Z",
     "iopub.status.idle": "2024-12-09T02:06:29.543469Z",
     "shell.execute_reply": "2024-12-09T02:06:29.543469Z",
     "shell.execute_reply.started": "2024-12-09T02:06:28.939431Z"
    },
    "papermill": {
     "duration": 0.229268,
     "end_time": "2021-03-13T20:30:46.583663",
     "exception": false,
     "start_time": "2021-03-13T20:30:46.354395",
     "status": "completed"
    },
    "tags": []
   },
   "source": [
    "img, label = test_ds[23]\n",
    "plt.imshow(img.permute(1, 2, 0))\n",
    "print('Label:', dataset.classes[label], ', Predicted:', predict_image(img, model))"
   ],
   "outputs": [],
   "execution_count": null
  },
  {
   "cell_type": "code",
   "metadata": {
    "execution": {
     "iopub.execute_input": "2024-12-09T02:06:33.063453Z",
     "iopub.status.busy": "2024-12-09T02:06:33.063453Z",
     "iopub.status.idle": "2024-12-09T02:06:33.679611Z",
     "shell.execute_reply": "2024-12-09T02:06:33.679611Z",
     "shell.execute_reply.started": "2024-12-09T02:06:33.063453Z"
    },
    "papermill": {
     "duration": 0.23095,
     "end_time": "2021-03-13T20:30:46.87179",
     "exception": false,
     "start_time": "2021-03-13T20:30:46.64084",
     "status": "completed"
    },
    "tags": []
   },
   "source": [
    "img, label = test_ds[51]\n",
    "plt.imshow(img.permute(1, 2, 0))\n",
    "print('Label:', dataset.classes[label], ', Predicted:', predict_image(img, model))"
   ],
   "outputs": [],
   "execution_count": null
  },
  {
   "cell_type": "markdown",
   "metadata": {
    "papermill": {
     "duration": 0.060013,
     "end_time": "2021-03-13T20:30:46.991904",
     "exception": false,
     "start_time": "2021-03-13T20:30:46.931891",
     "status": "completed"
    },
    "tags": []
   },
   "source": [
    "# Predicting External Images:"
   ]
  },
  {
   "cell_type": "markdown",
   "metadata": {
    "papermill": {
     "duration": 0.060485,
     "end_time": "2021-03-13T20:30:47.112391",
     "exception": false,
     "start_time": "2021-03-13T20:30:47.051906",
     "status": "completed"
    },
    "tags": []
   },
   "source": [
    "Let's now test with external images.\n",
    "\n",
    "I'll use `urllib` for downloading external images."
   ]
  },
  {
   "cell_type": "code",
   "metadata": {
    "execution": {
     "iopub.execute_input": "2024-12-09T02:06:38.539898Z",
     "iopub.status.busy": "2024-12-09T02:06:38.538893Z",
     "iopub.status.idle": "2024-12-09T02:06:39.485304Z",
     "shell.execute_reply": "2024-12-09T02:06:39.483995Z",
     "shell.execute_reply.started": "2024-12-09T02:06:38.539898Z"
    },
    "papermill": {
     "duration": 4.56965,
     "end_time": "2021-03-13T20:30:51.741717",
     "exception": false,
     "start_time": "2021-03-13T20:30:47.172067",
     "status": "completed"
    },
    "tags": []
   },
   "source": [
    "import urllib.request\n",
    "# urllib.request.urlretrieve(\"https://images.squarespace-cdn.com/content/v1/5a7497e29f8dcee376b70f7e/1591630503059-FBBWAYXPWYOK9BTIBMZY/ke17ZwdGBToddI8pDm48kA_SSaoz4elkj-HsZd8gX3Z7gQa3H78H3Y0txjaiv_0fDoOvxcdMmMKkDsyUqMSsMWxHk725yiiHCCLfrh8O1z5QPOohDIaIeljMHgDF5CVlOqpeNLcJ80NK65_fV7S1UWPwZyNcweDIvdeL5kotwkIXjs9g0WibSO_cU-Ijy4Pwg6poS-6WGGnXqDacZer4yQ/74586587_10157705983079085_1307946016988725248_o+%281%29.jpg?format=2500w\", \"bar.jpg\")\n",
    "# urllib.request.urlretrieve(\"https://www.bocadolobo.com/en/inspiration-and-ideas/wp-content/uploads/2018/03/Discover-the-Ultimate-Master-Bedroom-Styles-and-Inspirations-6_1.jpg\", \"bedroom.jpg\")    \n",
    "# urllib.request.urlretrieve(\"https://sika.scene7.com/is/image/sika/glo-elevator-appliances?wid=1280&crop=0%2C80%2C4615%2C3212\", \"elevator.jpg\") \n",
    "urllib.request.urlretrieve(\"https://i.pinimg.com/originals/2b/15/9d/2b159da035e4e3aaa30c03ec8ba7816c.jpg\", \"gameroom.jpg\")\n",
    "# urllib.request.urlretrieve(\"https://i.pinimg.com/originals/a6/d9/d7/a6d9d743da7017a7bcf4a53e46d22f81.jpg\", \"inside_bus.jpg\")\n",
    "# urllib.request.urlretrieve(\"https://s.wsj.net/public/resources/images/ON-CE927_moviet_B1280_20170714200426.jpg\", \"theatre.jpg\")"
   ],
   "outputs": [],
   "execution_count": null
  },
  {
   "cell_type": "markdown",
   "metadata": {
    "papermill": {
     "duration": 0.061596,
     "end_time": "2021-03-13T20:30:51.86465",
     "exception": false,
     "start_time": "2021-03-13T20:30:51.803054",
     "status": "completed"
    },
    "tags": []
   },
   "source": [
    "Let us load the model. You can load an external pre-trained model too!"
   ]
  },
  {
   "cell_type": "code",
   "metadata": {
    "execution": {
     "iopub.execute_input": "2024-12-09T02:06:42.590916Z",
     "iopub.status.busy": "2024-12-09T02:06:42.590916Z",
     "iopub.status.idle": "2024-12-09T02:06:42.594680Z",
     "shell.execute_reply": "2024-12-09T02:06:42.594680Z",
     "shell.execute_reply.started": "2024-12-09T02:06:42.590916Z"
    },
    "papermill": {
     "duration": 0.067839,
     "end_time": "2021-03-13T20:30:51.993865",
     "exception": false,
     "start_time": "2021-03-13T20:30:51.926026",
     "status": "completed"
    },
    "tags": []
   },
   "source": [
    "loaded_model = model"
   ],
   "outputs": [],
   "execution_count": null
  },
  {
   "cell_type": "markdown",
   "metadata": {
    "papermill": {
     "duration": 0.061105,
     "end_time": "2021-03-13T20:30:52.116371",
     "exception": false,
     "start_time": "2021-03-13T20:30:52.055266",
     "status": "completed"
    },
    "tags": []
   },
   "source": [
    "This function takes the image's name and prints the predictions:"
   ]
  },
  {
   "cell_type": "code",
   "metadata": {
    "execution": {
     "iopub.execute_input": "2024-12-09T02:06:44.999639Z",
     "iopub.status.busy": "2024-12-09T02:06:44.999639Z",
     "iopub.status.idle": "2024-12-09T02:06:45.011370Z",
     "shell.execute_reply": "2024-12-09T02:06:45.011370Z",
     "shell.execute_reply.started": "2024-12-09T02:06:44.999639Z"
    },
    "papermill": {
     "duration": 0.069081,
     "end_time": "2021-03-13T20:30:52.245972",
     "exception": false,
     "start_time": "2021-03-13T20:30:52.176891",
     "status": "completed"
    },
    "tags": []
   },
   "source": [
    "from PIL import Image\n",
    "from pathlib import Path\n",
    "\n",
    "def predict_external_image(image_name):\n",
    "    image = Image.open(Path('./' + image_name))\n",
    "\n",
    "    example_image = transformations(image)\n",
    "    plt.imshow(example_image.permute(1, 2, 0))\n",
    "    print(\"The image resembles\", predict_image(example_image, loaded_model) + \".\")"
   ],
   "outputs": [],
   "execution_count": null
  },
  {
   "cell_type": "code",
   "metadata": {
    "execution": {
     "iopub.execute_input": "2024-12-09T02:06:46.729709Z",
     "iopub.status.busy": "2024-12-09T02:06:46.728666Z",
     "iopub.status.idle": "2024-12-09T02:06:48.545675Z",
     "shell.execute_reply": "2024-12-09T02:06:48.545675Z",
     "shell.execute_reply.started": "2024-12-09T02:06:46.729709Z"
    },
    "papermill": {
     "duration": 0.272528,
     "end_time": "2021-03-13T20:30:52.579185",
     "exception": false,
     "start_time": "2021-03-13T20:30:52.306657",
     "status": "completed"
    },
    "tags": []
   },
   "source": [
    "predict_external_image('bar.jpg')"
   ],
   "outputs": [],
   "execution_count": null
  },
  {
   "cell_type": "code",
   "metadata": {
    "execution": {
     "iopub.execute_input": "2024-12-09T02:07:11.371110Z",
     "iopub.status.busy": "2024-12-09T02:07:11.370111Z",
     "iopub.status.idle": "2024-12-09T02:07:11.413971Z",
     "shell.execute_reply": "2024-12-09T02:07:11.412257Z",
     "shell.execute_reply.started": "2024-12-09T02:07:11.371110Z"
    },
    "papermill": {
     "duration": 0.247474,
     "end_time": "2021-03-13T20:30:52.891154",
     "exception": false,
     "start_time": "2021-03-13T20:30:52.64368",
     "status": "completed"
    },
    "tags": []
   },
   "source": [
    "predict_external_image('bedroom.jpg')"
   ],
   "outputs": [],
   "execution_count": null
  },
  {
   "cell_type": "code",
   "metadata": {
    "execution": {
     "iopub.execute_input": "2024-12-09T02:07:12.183462Z",
     "iopub.status.busy": "2024-12-09T02:07:12.183462Z",
     "iopub.status.idle": "2024-12-09T02:07:12.224964Z",
     "shell.execute_reply": "2024-12-09T02:07:12.223957Z",
     "shell.execute_reply.started": "2024-12-09T02:07:12.183462Z"
    },
    "papermill": {
     "duration": 0.250468,
     "end_time": "2021-03-13T20:30:53.209119",
     "exception": false,
     "start_time": "2021-03-13T20:30:52.958651",
     "status": "completed"
    },
    "tags": []
   },
   "source": [
    "predict_external_image('elevator.jpg')"
   ],
   "outputs": [],
   "execution_count": null
  },
  {
   "cell_type": "code",
   "metadata": {
    "execution": {
     "iopub.execute_input": "2024-12-09T02:07:12.649334Z",
     "iopub.status.busy": "2024-12-09T02:07:12.648326Z",
     "iopub.status.idle": "2024-12-09T02:07:13.472353Z",
     "shell.execute_reply": "2024-12-09T02:07:13.472353Z",
     "shell.execute_reply.started": "2024-12-09T02:07:12.649334Z"
    },
    "papermill": {
     "duration": 0.261299,
     "end_time": "2021-03-13T20:30:53.540093",
     "exception": false,
     "start_time": "2021-03-13T20:30:53.278794",
     "status": "completed"
    },
    "tags": []
   },
   "source": [
    "predict_external_image('gameroom.jpg')"
   ],
   "outputs": [],
   "execution_count": null
  },
  {
   "cell_type": "code",
   "metadata": {
    "execution": {
     "iopub.execute_input": "2024-12-09T02:07:13.472353Z",
     "iopub.status.busy": "2024-12-09T02:07:13.472353Z",
     "iopub.status.idle": "2024-12-09T02:07:13.518752Z",
     "shell.execute_reply": "2024-12-09T02:07:13.518752Z",
     "shell.execute_reply.started": "2024-12-09T02:07:13.472353Z"
    },
    "papermill": {
     "duration": 0.258008,
     "end_time": "2021-03-13T20:30:53.878861",
     "exception": false,
     "start_time": "2021-03-13T20:30:53.620853",
     "status": "completed"
    },
    "tags": []
   },
   "source": [
    "predict_external_image('inside_bus.jpg')"
   ],
   "outputs": [],
   "execution_count": null
  },
  {
   "cell_type": "code",
   "metadata": {
    "execution": {
     "iopub.execute_input": "2024-12-09T02:06:54.770811Z",
     "iopub.status.busy": "2024-12-09T02:06:54.769815Z",
     "iopub.status.idle": "2024-12-09T02:06:54.870988Z",
     "shell.execute_reply": "2024-12-09T02:06:54.869982Z",
     "shell.execute_reply.started": "2024-12-09T02:06:54.770811Z"
    },
    "papermill": {
     "duration": 0.26608,
     "end_time": "2021-03-13T20:30:54.259787",
     "exception": false,
     "start_time": "2021-03-13T20:30:53.993707",
     "status": "completed"
    },
    "tags": []
   },
   "source": [
    "predict_external_image('theatre.jpg')"
   ],
   "outputs": [],
   "execution_count": null
  },
  {
   "cell_type": "markdown",
   "metadata": {
    "papermill": {
     "duration": 0.078194,
     "end_time": "2021-03-13T20:30:54.417574",
     "exception": false,
     "start_time": "2021-03-13T20:30:54.33938",
     "status": "completed"
    },
    "tags": []
   },
   "source": [
    "# Conclusion:\n",
    "\n",
    "Our model is able to classify indoor with **76% accuracy (max)**!\n",
    "\n",
    "It's great to see the model's predictions on the test set. It works pretty good on external images too!\n",
    "\n",
    "You can try experimenting with more images and see the results!"
   ]
  },
  {
   "cell_type": "markdown",
   "metadata": {
    "papermill": {
     "duration": 0.091781,
     "end_time": "2021-03-13T20:30:54.588889",
     "exception": false,
     "start_time": "2021-03-13T20:30:54.497108",
     "status": "completed"
    },
    "tags": []
   },
   "source": [
    "### If you liked the kernel, don't forget to show some appreciation :)"
   ]
  }
 ],
 "metadata": {
  "kernelspec": {
   "display_name": "Python 3 (ipykernel)",
   "language": "python",
   "name": "python3"
  },
  "language_info": {
   "codemirror_mode": {
    "name": "ipython",
    "version": 3
   },
   "file_extension": ".py",
   "mimetype": "text/x-python",
   "name": "python",
   "nbconvert_exporter": "python",
   "pygments_lexer": "ipython3",
   "version": "3.12.1"
  }
 },
 "nbformat": 4,
 "nbformat_minor": 4
}
